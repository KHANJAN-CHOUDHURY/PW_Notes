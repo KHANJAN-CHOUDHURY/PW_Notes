{
 "cells": [
  {
   "cell_type": "markdown",
   "id": "18d7ae71",
   "metadata": {},
   "source": [
    "## Multithreading\n",
    "Multithreading runs multiple threads simultaneously within a single process"
   ]
  },
  {
   "cell_type": "code",
   "execution_count": 1,
   "id": "b4ecae69-5d26-4cdb-a429-c8aeb34177aa",
   "metadata": {},
   "outputs": [],
   "source": [
    "import threading"
   ]
  },
  {
   "cell_type": "code",
   "execution_count": 3,
   "id": "4283c596-f016-4a10-b94a-34422b3d58e5",
   "metadata": {},
   "outputs": [],
   "source": [
    "def test(id) :\n",
    "    print(\"this is my test id %d \" % id)"
   ]
  },
  {
   "cell_type": "code",
   "execution_count": 4,
   "id": "9611fa11-27e4-4dba-9c01-d63cc07f2d98",
   "metadata": {},
   "outputs": [
    {
     "name": "stdout",
     "output_type": "stream",
     "text": [
      "this is my test id 10 \n"
     ]
    }
   ],
   "source": [
    "test(10)"
   ]
  },
  {
   "cell_type": "code",
   "execution_count": 5,
   "id": "7dedc236-37d8-4576-8a0f-39f7673e090d",
   "metadata": {},
   "outputs": [
    {
     "name": "stdout",
     "output_type": "stream",
     "text": [
      "this is my test id 1 \n"
     ]
    }
   ],
   "source": [
    "test(1)"
   ]
  },
  {
   "cell_type": "code",
   "execution_count": 6,
   "id": "3b42e993-d06e-4f29-86a0-406506819914",
   "metadata": {},
   "outputs": [
    {
     "name": "stdout",
     "output_type": "stream",
     "text": [
      "this is my test id 3 \n"
     ]
    }
   ],
   "source": [
    "test(3)"
   ]
  },
  {
   "cell_type": "markdown",
   "id": "f64ac4b3",
   "metadata": {},
   "source": [
    "The test function is called three times with different inputs. If want to implement it with threading then following code we have to run."
   ]
  },
  {
   "cell_type": "code",
   "execution_count": 7,
   "id": "9f03a356-cbfa-47e1-9dd6-84fc1ff27391",
   "metadata": {},
   "outputs": [],
   "source": [
    "thred = [threading.Thread(target=test , args = (i,)) for i in [10 , 1 ,3]]\n",
    "#target = takes 'test()' as input\n",
    "# agrs = gives one i/p value to 'test()' at a time i.e. [10,1,3]"
   ]
  },
  {
   "cell_type": "code",
   "execution_count": 8,
   "id": "ee217cab-543c-46d5-a4d8-e5fa71d36548",
   "metadata": {},
   "outputs": [
    {
     "data": {
      "text/plain": [
       "[<Thread(Thread-5 (test), initial)>,\n",
       " <Thread(Thread-6 (test), initial)>,\n",
       " <Thread(Thread-7 (test), initial)>]"
      ]
     },
     "execution_count": 8,
     "metadata": {},
     "output_type": "execute_result"
    }
   ],
   "source": [
    "thred\n",
    "# In a single core of the processor 3 threads has been created."
   ]
  },
  {
   "cell_type": "code",
   "execution_count": 9,
   "id": "2252fe69-9935-42de-9708-88f2427d8376",
   "metadata": {},
   "outputs": [
    {
     "name": "stdout",
     "output_type": "stream",
     "text": [
      "this is my test id 10 \n",
      "this is my test id 1 \n",
      "this is my test id 3 \n"
     ]
    }
   ],
   "source": [
    "# Implemented using the 3 threads.\n",
    "for t in thred:\n",
    "    t.start()"
   ]
  },
  {
   "cell_type": "markdown",
   "id": "fa6ae762",
   "metadata": {},
   "source": [
    "Q. Through the 3 urls given below we will have access to fetch data. Now write a program to fetch and store the data using multi-threading. "
   ]
  },
  {
   "cell_type": "code",
   "execution_count": 10,
   "id": "05f2d3e3-f3d6-465f-b661-6484fe940533",
   "metadata": {},
   "outputs": [],
   "source": [
    "import urllib.request\n",
    "# Above module will request all the url to give their data.\n",
    "def file_download(url , filename):\n",
    "    urllib.request.urlretrieve(url , filename)# url: link of the data\n",
    "                                              # filename: file where we want to store the data"
   ]
  },
  {
   "cell_type": "code",
   "execution_count": 11,
   "id": "b50c9c89-b15a-4924-9c9f-2b33b9d02fbc",
   "metadata": {},
   "outputs": [],
   "source": [
    "file_download('https://raw.githubusercontent.com/itsfoss/text-files/master/agatha.txt' , \"test1.txt\")"
   ]
  },
  {
   "cell_type": "markdown",
   "id": "74448821",
   "metadata": {},
   "source": [
    "To use multi-threading concept we will creat and 'url_list' and 'dat_file_list'"
   ]
  },
  {
   "cell_type": "code",
   "execution_count": 12,
   "id": "870f948f-3b57-402f-b78f-b1bfc7bc45c5",
   "metadata": {},
   "outputs": [],
   "source": [
    "url_list = ['https://raw.githubusercontent.com/itsfoss/text-files/master/agatha.txt' , 'https://raw.githubusercontent.com/itsfoss/text-files/master/sherlock.txt' ,'https://raw.githubusercontent.com/itsfoss/text-files/master/sample_log_file.txt' ]"
   ]
  },
  {
   "cell_type": "code",
   "execution_count": 13,
   "id": "6aefd344-9e2f-4269-94b0-d6fc21829b5f",
   "metadata": {},
   "outputs": [
    {
     "data": {
      "text/plain": [
       "['https://raw.githubusercontent.com/itsfoss/text-files/master/agatha.txt',\n",
       " 'https://raw.githubusercontent.com/itsfoss/text-files/master/sherlock.txt',\n",
       " 'https://raw.githubusercontent.com/itsfoss/text-files/master/sample_log_file.txt']"
      ]
     },
     "execution_count": 13,
     "metadata": {},
     "output_type": "execute_result"
    }
   ],
   "source": [
    "url_list"
   ]
  },
  {
   "cell_type": "code",
   "execution_count": 14,
   "id": "213fc619-6707-41a2-936c-ee0f813c0783",
   "metadata": {},
   "outputs": [],
   "source": [
    "data_file_list = ['data1.txt', 'data2.txt','data3.txt']"
   ]
  },
  {
   "cell_type": "code",
   "execution_count": 15,
   "id": "843d099b-9beb-4b9e-a081-b7895a380688",
   "metadata": {},
   "outputs": [
    {
     "data": {
      "text/plain": [
       "['data1.txt', 'data2.txt', 'data3.txt']"
      ]
     },
     "execution_count": 15,
     "metadata": {},
     "output_type": "execute_result"
    }
   ],
   "source": [
    "data_file_list"
   ]
  },
  {
   "cell_type": "markdown",
   "id": "688fea77",
   "metadata": {},
   "source": [
    "Threads are created below"
   ]
  },
  {
   "cell_type": "code",
   "execution_count": 20,
   "id": "fe12ba00-2a12-4dd2-9581-72542a14fa62",
   "metadata": {},
   "outputs": [],
   "source": [
    "thread1 = [threading.Thread(target=file_download , args=(url_list[i],data_file_list[i])) for i in range(len(url_list))]"
   ]
  },
  {
   "cell_type": "code",
   "execution_count": 21,
   "id": "1b680f19-07c5-4984-b26d-e1cd52860515",
   "metadata": {},
   "outputs": [],
   "source": [
    "for t in thread1:\n",
    "    t.start()"
   ]
  },
  {
   "cell_type": "markdown",
   "id": "d8ccc4f9",
   "metadata": {},
   "source": [
    "Three threads have been created."
   ]
  },
  {
   "cell_type": "code",
   "execution_count": 22,
   "id": "ca61b997-82f0-406c-b119-48518712c376",
   "metadata": {},
   "outputs": [
    {
     "data": {
      "text/plain": [
       "[<Thread(Thread-11 (file_download), stopped 139788252325440)>,\n",
       " <Thread(Thread-12 (file_download), stopped 139787897927232)>,\n",
       " <Thread(Thread-13 (file_download), stopped 139787889534528)>]"
      ]
     },
     "execution_count": 22,
     "metadata": {},
     "output_type": "execute_result"
    }
   ],
   "source": [
    "thread1"
   ]
  },
  {
   "cell_type": "code",
   "execution_count": 23,
   "id": "41a60ae3-a334-4554-94fe-13c8a4cf72bc",
   "metadata": {},
   "outputs": [],
   "source": [
    "import time"
   ]
  },
  {
   "cell_type": "code",
   "execution_count": 34,
   "id": "961368a8-38a9-4bd9-9549-b80f299a55d8",
   "metadata": {},
   "outputs": [],
   "source": [
    "def test2(x) : \n",
    "    for i in range(10) : \n",
    "        print(\" test1 print the value of x %d and print the value of i %d \" %(x,i))\n",
    "        time.sleep(1) # Threads waits for 1 sec."
   ]
  },
  {
   "cell_type": "code",
   "execution_count": 35,
   "id": "8d7a81cc-78a5-4f62-9aa9-877b7a0c3c6f",
   "metadata": {},
   "outputs": [],
   "source": [
    "thread2 = [threading.Thread(target=test2 , args=(i,)) for i in [100 , 10,20,5]]"
   ]
  },
  {
   "cell_type": "markdown",
   "id": "392b0dda",
   "metadata": {},
   "source": [
    "Here all 4 threads are executed in a sequence. 1st thread is executed once with value 100 and thread goes for sleep/wait. Mean while the 2nd thread gets executed with value 10 and thread goes for sleep/wait then 3rd thread gets executed with value 20 and thread goes for sleep/wait; these process are repeated. So in the cell below all results of one thread is not comming together."
   ]
  },
  {
   "cell_type": "code",
   "execution_count": 36,
   "id": "5593f868-bde7-4889-a331-53b88a82a81e",
   "metadata": {},
   "outputs": [
    {
     "name": "stdout",
     "output_type": "stream",
     "text": [
      " test1 print the value of x 100 and print the value of i 0 \n",
      " test1 print the value of x 10 and print the value of i 0 \n",
      " test1 print the value of x 20 and print the value of i 0 \n",
      " test1 print the value of x 5 and print the value of i 0 \n",
      " test1 print the value of x 100 and print the value of i 1 \n",
      " test1 print the value of x 10 and print the value of i 1 \n",
      " test1 print the value of x 20 and print the value of i 1 \n",
      " test1 print the value of x 5 and print the value of i 1 \n",
      " test1 print the value of x 100 and print the value of i 2 \n",
      " test1 print the value of x 10 and print the value of i 2 \n",
      " test1 print the value of x 20 and print the value of i 2 \n",
      " test1 print the value of x 5 and print the value of i 2 \n",
      " test1 print the value of x 100 and print the value of i 3  test1 print the value of x 20 and print the value of i 3 \n",
      " test1 print the value of x 10 and print the value of i 3 \n",
      "\n",
      " test1 print the value of x 5 and print the value of i 3 \n",
      " test1 print the value of x 20 and print the value of i 4  test1 print the value of x 10 and print the value of i 4 \n",
      " test1 print the value of x 100 and print the value of i 4 \n",
      "\n",
      " test1 print the value of x 5 and print the value of i 4 \n",
      " test1 print the value of x 10 and print the value of i 5  test1 print the value of x 20 and print the value of i 5 \n",
      "\n",
      " test1 print the value of x 5 and print the value of i 5 \n",
      " test1 print the value of x 100 and print the value of i 5 \n",
      " test1 print the value of x 20 and print the value of i 6  test1 print the value of x 10 and print the value of i 6 \n",
      " test1 print the value of x 5 and print the value of i 6 \n",
      " test1 print the value of x 100 and print the value of i 6 \n",
      "\n",
      " test1 print the value of x 10 and print the value of i 7  test1 print the value of x 5 and print the value of i 7 \n",
      "\n",
      " test1 print the value of x 100 and print the value of i 7 \n",
      " test1 print the value of x 20 and print the value of i 7 \n",
      " test1 print the value of x 5 and print the value of i 8  test1 print the value of x 10 and print the value of i 8 \n",
      " test1 print the value of x 100 and print the value of i 8 \n",
      " test1 print the value of x 20 and print the value of i 8 \n",
      "\n",
      " test1 print the value of x 10 and print the value of i 9  test1 print the value of x 5 and print the value of i 9 \n",
      " test1 print the value of x 20 and print the value of i 9 \n",
      " test1 print the value of x 100 and print the value of i 9 \n",
      "\n"
     ]
    }
   ],
   "source": [
    "for t in thread2:\n",
    "    t.start()"
   ]
  },
  {
   "cell_type": "code",
   "execution_count": 28,
   "id": "9290b75f-729e-4b8a-b996-83e6da5b38a5",
   "metadata": {},
   "outputs": [
    {
     "name": "stdout",
     "output_type": "stream",
     "text": [
      " test1 print the value of x 10 and print the value of i 0 \n",
      " test1 print the value of x 10 and print the value of i 1 \n",
      " test1 print the value of x 10 and print the value of i 2 \n",
      " test1 print the value of x 10 and print the value of i 3 \n",
      " test1 print the value of x 10 and print the value of i 4 \n",
      " test1 print the value of x 10 and print the value of i 5 \n",
      " test1 print the value of x 10 and print the value of i 6 \n",
      " test1 print the value of x 10 and print the value of i 7 \n",
      " test1 print the value of x 10 and print the value of i 8 \n",
      " test1 print the value of x 10 and print the value of i 9 \n"
     ]
    }
   ],
   "source": [
    "test2(10)"
   ]
  },
  {
   "cell_type": "code",
   "execution_count": 26,
   "id": "8f7ff2bc-721d-4fe4-beae-9a558ea264cc",
   "metadata": {},
   "outputs": [
    {
     "name": "stdout",
     "output_type": "stream",
     "text": [
      " test1 print the value of x 2 and print the value of i 0 \n",
      " test1 print the value of x 2 and print the value of i 1 \n",
      " test1 print the value of x 2 and print the value of i 2 \n",
      " test1 print the value of x 2 and print the value of i 3 \n",
      " test1 print the value of x 2 and print the value of i 4 \n",
      " test1 print the value of x 2 and print the value of i 5 \n",
      " test1 print the value of x 2 and print the value of i 6 \n",
      " test1 print the value of x 2 and print the value of i 7 \n",
      " test1 print the value of x 2 and print the value of i 8 \n",
      " test1 print the value of x 2 and print the value of i 9 \n"
     ]
    }
   ],
   "source": [
    "test2(2)"
   ]
  },
  {
   "cell_type": "code",
   "execution_count": 44,
   "id": "2ed7e4f3-0047-4efe-a101-03da53d1223d",
   "metadata": {},
   "outputs": [
    {
     "name": "stdout",
     "output_type": "stream",
     "text": [
      "value of x 1 and value of shareed_var 1 \n",
      "value of x 2 and value of shareed_var 2 \n",
      "value of x 3 and value of shareed_var 3 \n",
      "value of x 4 and value of shareed_var 4 \n",
      "value of x 4 and value of shareed_var 5 \n",
      "value of x 5 and value of shareed_var 6 \n"
     ]
    }
   ],
   "source": [
    "shared_var = 0 \n",
    "lock_var = threading.Lock()# Even thread goes for sleep the other threads won't be able to use the resources\n",
    "def test4(x) : \n",
    "    global shared_var # Different functions should be able to update 'shared_var'. So it is declared as global variable.\n",
    "    with lock_var : \n",
    "        shared_var = shared_var + 1\n",
    "        print(\"value of x %d and value of shareed_var %d \" %(x, shared_var))\n",
    "        time.sleep(1)\n",
    " \n",
    "thread5  = [threading.Thread(target=test4 , args = (i,)) for i in [1,2,3,4,4,5]]\n",
    "for t in thread5 : \n",
    "    t.start()"
   ]
  },
  {
   "cell_type": "code",
   "execution_count": 40,
   "id": "97375da3-3557-4df7-a8ff-02f23b9db143",
   "metadata": {},
   "outputs": [
    {
     "name": "stdout",
     "output_type": "stream",
     "text": [
      "value of x 1 and value of shareed_var 3 \n"
     ]
    }
   ],
   "source": [
    "test3(1)"
   ]
  },
  {
   "cell_type": "code",
   "execution_count": 41,
   "id": "95c2b055-5164-41ec-a889-167906b88762",
   "metadata": {},
   "outputs": [
    {
     "name": "stdout",
     "output_type": "stream",
     "text": [
      "value of x 2 and value of shareed_var 4 \n"
     ]
    }
   ],
   "source": [
    "test3(2)"
   ]
  },
  {
   "cell_type": "markdown",
   "id": "6546dcbc",
   "metadata": {},
   "source": [
    "## What is Mutex in python?"
   ]
  },
  {
   "cell_type": "markdown",
   "id": "67c7a4c5",
   "metadata": {},
   "source": [
    "A mutex (short for \"mutual exclusion\") is a synchronization mechanism used in multithreading to ensure that only one thread can access a shared resource at a time. In a multithreaded environment, multiple threads can potentially access and modify shared data concurrently. Without proper synchronization, this can lead to data corruption, race conditions, and unpredictable behavior.\n",
    "\n",
    "A mutex provides a way to guard critical sections of code or shared resources, allowing only one thread to execute within that critical section at any given time. It acts as a lock that threads must acquire before entering the critical section and release after exiting it. This prevents multiple threads from interfering with each other and ensures that the shared resource is accessed consistently.\n",
    "\n",
    "Here's a basic flow of how a mutex works:\n",
    "\n",
    "    Locking: When a thread wants to access a shared resource protected by a mutex, it tries to acquire the mutex. If the mutex is currently not held by any other thread (i.e., it's available), the requesting thread acquires the mutex and enters the critical section. If the mutex is already held by another thread, the requesting thread will be blocked until the mutex becomes available.\n",
    "\n",
    "    Critical Section: The thread that successfully acquires the mutex can now access the shared resource safely. This section of code is often referred to as the \"critical section\" because it's where the sensitive shared data is being manipulated.\n",
    "\n",
    "    Unlocking: Once the thread finishes its work in the critical section, it releases the mutex. This action allows other waiting threads to acquire the mutex and enter the critical section if they are also contending for access.\n",
    "\n",
    "Using mutexes helps to prevent race conditions where multiple threads could unintentionally modify shared data simultaneously. However, improper usage of mutexes can lead to deadlocks (where threads are stuck waiting for each other) or performance issues due to excessive locking.\n",
    "\n",
    "It's important to use mutexes carefully and judiciously, as their improper use can introduce its own set of complexities. Modern programming languages and libraries provide mutex implementations and higher-level synchronization constructs that make it easier to manage multithreaded scenarios safely."
   ]
  },
  {
   "cell_type": "markdown",
   "id": "8995b7c7",
   "metadata": {},
   "source": [
    "## What is the Global Interpreter Lock (GIL) in Python?"
   ]
  },
  {
   "cell_type": "markdown",
   "id": "b5ab903c",
   "metadata": {},
   "source": [
    "The Global Interpreter Lock (GIL) is a mutex (mutual exclusion) that exists in the CPython implementation of the Python programming language. CPython is the most widely used and commonly known implementation of Python. The GIL is a design feature of CPython that has significant implications for multithreaded programming in Python.\n",
    "\n",
    "The GIL is essentially a lock that prevents multiple native threads from executing Python bytecodes in parallel within a single CPython process. This means that even if you have multiple threads in your Python program, only one thread can execute Python code at a time due to the GIL. The GIL was introduced as a way to simplify memory management in CPython and to make it easier to write C extension modules, which are common in the Python ecosystem.\n",
    "\n",
    "However, the GIL has several implications:\n",
    "\n",
    "    Single-threaded Performance: In single-threaded scenarios, the GIL does not have a significant impact on performance. It's when multiple threads are involved that the GIL becomes relevant.\n",
    "\n",
    "    Multithreaded Performance: Because of the GIL, multithreaded Python programs might not achieve the level of parallelism that you'd expect. Even if you have multiple threads, they won't run simultaneously due to the GIL. This can be a limitation when trying to take advantage of multicore processors to speed up CPU-bound tasks.\n",
    "\n",
    "    IO-bound Tasks: The GIL doesn't affect IO-bound tasks as much because the GIL is released when a thread is performing IO operations. This means that multiple threads can execute IO-bound tasks more effectively.\n",
    "\n",
    "    Multicore Utilization: The GIL can limit the Python interpreter's ability to utilize multiple CPU cores, which are essential for CPU-bound tasks. To achieve better parallelism in CPU-bound tasks, you might need to use processes (using the multiprocessing module) instead of threads.\n",
    "\n",
    "    Python Threads vs. Processes: Due to the GIL, many Python developers choose to use the multiprocessing module to achieve parallelism on multicore systems instead of using threads.\n",
    "\n",
    "It's important to note that the GIL is specific to the CPython implementation. Other implementations of Python, such as Jython and IronPython, don't have a GIL and can achieve better multithreading performance. Additionally, for certain applications, Python's threading capabilities might still be useful, especially for managing IO-bound tasks, asynchronous programming using libraries like asyncio, or interfacing with external libraries that release the GIL during computation."
   ]
  },
  {
   "cell_type": "markdown",
   "id": "52c91205",
   "metadata": {},
   "source": []
  }
 ],
 "metadata": {
  "kernelspec": {
   "display_name": "Python 3 (ipykernel)",
   "language": "python",
   "name": "python3"
  },
  "language_info": {
   "codemirror_mode": {
    "name": "ipython",
    "version": 3
   },
   "file_extension": ".py",
   "mimetype": "text/x-python",
   "name": "python",
   "nbconvert_exporter": "python",
   "pygments_lexer": "ipython3",
   "version": "3.10.8"
  }
 },
 "nbformat": 4,
 "nbformat_minor": 5
}

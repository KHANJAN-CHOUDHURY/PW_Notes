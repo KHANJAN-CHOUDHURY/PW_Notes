{
 "cells": [
  {
   "cell_type": "markdown",
   "id": "8189c1ac-753f-4a2d-bb1c-caa7be4fbed7",
   "metadata": {},
   "source": [
    "### We  want to collect reviews of the product from the 'flipkart' website."
   ]
  },
  {
   "cell_type": "code",
   "execution_count": 15,
   "id": "c3fe3f3e-6fdb-47b1-86b1-c4500d0e221e",
   "metadata": {},
   "outputs": [],
   "source": [
    "import requests # Used in API\n",
    "from bs4 import BeautifulSoup as bs\n",
    "from urllib.request import urlopen # urlopen is going to open URL\n",
    "import logging #Used in debug as well acount of all activity stored here"
   ]
  },
  {
   "cell_type": "code",
   "execution_count": 16,
   "id": "02d7a94f-f4b9-4641-b656-d672e410d2f5",
   "metadata": {},
   "outputs": [],
   "source": [
    "flipkart_url = \"https://www.flipkart.com/search?q=\"+\"iphone12\"\n",
    "#1st part is the URL and 2nd part is the query word"
   ]
  },
  {
   "cell_type": "code",
   "execution_count": 17,
   "id": "2bdcfa4f-ad3c-4fd2-a9eb-b0df9e2d3295",
   "metadata": {},
   "outputs": [
    {
     "data": {
      "text/plain": [
       "'https://www.flipkart.com/search?q=iphone12'"
      ]
     },
     "execution_count": 17,
     "metadata": {},
     "output_type": "execute_result"
    }
   ],
   "source": [
    "flipkart_url"
   ]
  },
  {
   "cell_type": "code",
   "execution_count": 18,
   "id": "4975d5a7-9c24-4075-a17c-37a475ffc5a1",
   "metadata": {},
   "outputs": [],
   "source": [
    "\"\"\"urlopen opened the link/URL in the variable flipkart_url and store all HTML code of that webpage\n",
    "in the url_client variable.\"\"\"\n",
    "url_client = urlopen(flipkart_url)"
   ]
  },
  {
   "cell_type": "code",
   "execution_count": 19,
   "id": "63ada540-1775-4d90-a2de-b6bec81e0289",
   "metadata": {},
   "outputs": [],
   "source": [
    "\"\"\"read() will show all the HTML code of the webpage stored in the url_client variable. Here all the code\n",
    "is stored in flipkart_page variable\"\"\"\n",
    "flipkart_page = url_client.read()"
   ]
  },
  {
   "cell_type": "code",
   "execution_count": 20,
   "id": "7b821ac5-11aa-422b-a02b-9b74adf05dd8",
   "metadata": {},
   "outputs": [],
   "source": [
    "\"\"\"Using BeautifulSoup we will store the HTML code in slightly human readble format in flipkart_html \n",
    "variable\"\"\"\n",
    "flipkart_html = bs(flipkart_page,'html.parser')"
   ]
  },
  {
   "cell_type": "code",
   "execution_count": 21,
   "id": "d8df18c9-7edb-41bf-b8d8-8406200e1e0e",
   "metadata": {},
   "outputs": [
    {
     "data": {
      "text/plain": [
       "'https://www.flipkart.com/apple-iphone-12-green-128-gb/p/itm4e0a120f7d9c4?pid=MOBFWBYZQXUEHF48&lid=LSTMOBFWBYZQXUEHF484WD4A9&marketplace=FLIPKART&q=iphone+12&store=tyy%2F4io&srno=s_1_2&otracker=AS_Query_PredictiveAutoSuggest_1_0_na_na_na&otracker1=AS_Query_PredictiveAutoSuggest_1_0_na_na_na&fm=organic&iid=3a0c0d8b-9272-4508-b0c8-37d00263a4dc.MOBFWBYZQXUEHF48.SEARCH&ppt=hp&ppn=homepage&ssid=nlzxz9wddc0000001692083341419&qH=7b7504afcaf2e1ea'"
      ]
     },
     "execution_count": 21,
     "metadata": {},
     "output_type": "execute_result"
    }
   ],
   "source": [
    "# Base URL of flipkart is concatenated with hyperlink of the product\n",
    "# To get hyperlink go to webpage and press F12. \n",
    "# Then in html code box select the icon at top left corner.\n",
    "\"https://www.flipkart.com\" + \"/apple-iphone-12-green-128-gb/p/itm4e0a120f7d9c4?pid=MOBFWBYZQXUEHF48&lid=LSTMOBFWBYZQXUEHF484WD4A9&marketplace=FLIPKART&q=iphone+12&store=tyy%2F4io&srno=s_1_2&otracker=AS_Query_PredictiveAutoSuggest_1_0_na_na_na&otracker1=AS_Query_PredictiveAutoSuggest_1_0_na_na_na&fm=organic&iid=3a0c0d8b-9272-4508-b0c8-37d00263a4dc.MOBFWBYZQXUEHF48.SEARCH&ppt=hp&ppn=homepage&ssid=nlzxz9wddc0000001692083341419&qH=7b7504afcaf2e1ea\""
   ]
  },
  {
   "cell_type": "code",
   "execution_count": 23,
   "id": "3c829a8b-7483-4b23-a2e5-d0c18b36d474",
   "metadata": {},
   "outputs": [],
   "source": [
    "# From the HTML codes we are trying to find the bigboxes which contains product information\n",
    "bigbox_list = flipkart_html.find_all(\"div\",{\"class\":\"_1AtVbE col-12-12\"})"
   ]
  },
  {
   "cell_type": "code",
   "execution_count": 24,
   "id": "b6ec08fc-e548-41bd-aa3f-78e75291c2f7",
   "metadata": {},
   "outputs": [
    {
     "data": {
      "text/plain": [
       "31"
      ]
     },
     "execution_count": 24,
     "metadata": {},
     "output_type": "execute_result"
    }
   ],
   "source": [
    "len(bigbox_list)# gives number of products"
   ]
  },
  {
   "cell_type": "code",
   "execution_count": 25,
   "id": "fb663ae4-4978-4d30-a46b-ade78fbe7c18",
   "metadata": {},
   "outputs": [],
   "source": [
    "del bigbox_list[0:3] # Since first 3 boxs are not product box"
   ]
  },
  {
   "cell_type": "code",
   "execution_count": 30,
   "id": "29968cfd-3217-49b5-9669-e80e61242981",
   "metadata": {},
   "outputs": [],
   "source": [
    "# Now we will get hyperlink of the product from the bigboxes where product information is written.\n",
    "bigbox_list[0].div.div.div.a['href']\n",
    "# Appending the hyperlink with flipkart base url will give me the link to the product. \n",
    "product_link = \"https://www.flipkart.com\" + bigbox_list[0].div.div.div.a['href']"
   ]
  },
  {
   "cell_type": "code",
   "execution_count": 29,
   "id": "39c79e6c-1d43-4739-9ab0-319eb2d0389d",
   "metadata": {},
   "outputs": [
    {
     "name": "stdout",
     "output_type": "stream",
     "text": [
      "https://www.flipkart.com/apple-iphone-12-white-128-gb/p/itm95393f4c6cc59?pid=MOBFWBYZBTZFGJF9&lid=LSTMOBFWBYZBTZFGJF9RAHZAK&marketplace=FLIPKART&q=iphone12&store=tyy%2F4io&srno=s_1_1&otracker=search&fm=organic&iid=232b4c15-da5e-424c-8748-9960e4ec50c3.MOBFWBYZBTZFGJF9.SEARCH&ppt=None&ppn=None&ssid=8it7ii5iv40000001692084807491&qH=ad588135f239b88b\n",
      "https://www.flipkart.com/apple-iphone-12-green-128-gb/p/itm4e0a120f7d9c4?pid=MOBFWBYZQXUEHF48&lid=LSTMOBFWBYZQXUEHF484WD4A9&marketplace=FLIPKART&q=iphone12&store=tyy%2F4io&srno=s_1_2&otracker=search&fm=organic&iid=232b4c15-da5e-424c-8748-9960e4ec50c3.MOBFWBYZQXUEHF48.SEARCH&ppt=None&ppn=None&ssid=8it7ii5iv40000001692084807491&qH=ad588135f239b88b\n",
      "https://www.flipkart.com/apple-iphone-12-purple-128-gb/p/itmebc78f1cb26d3?pid=MOBG2EPZK5ZD9KYS&lid=LSTMOBG2EPZK5ZD9KYSOG4BIP&marketplace=FLIPKART&q=iphone12&store=tyy%2F4io&srno=s_1_3&otracker=search&fm=organic&iid=232b4c15-da5e-424c-8748-9960e4ec50c3.MOBG2EPZK5ZD9KYS.SEARCH&ppt=None&ppn=None&ssid=8it7ii5iv40000001692084807491&qH=ad588135f239b88b\n",
      "https://www.flipkart.com/apple-iphone-12-black-128-gb/p/itmf1f0a58f1ecd7?pid=MOBFWBYZK3HACR72&lid=LSTMOBFWBYZK3HACR72T8MSUQ&marketplace=FLIPKART&q=iphone12&store=tyy%2F4io&srno=s_1_4&otracker=search&fm=organic&iid=232b4c15-da5e-424c-8748-9960e4ec50c3.MOBFWBYZK3HACR72.SEARCH&ppt=None&ppn=None&ssid=8it7ii5iv40000001692084807491&qH=ad588135f239b88b\n",
      "https://www.flipkart.com/apple-iphone-12-black-64-gb/p/itma2559422bf7c7?pid=MOBFWBYZU5FWK2VP&lid=LSTMOBFWBYZU5FWK2VPFMEI56&marketplace=FLIPKART&q=iphone12&store=tyy%2F4io&srno=s_1_5&otracker=search&fm=organic&iid=232b4c15-da5e-424c-8748-9960e4ec50c3.MOBFWBYZU5FWK2VP.SEARCH&ppt=None&ppn=None&ssid=8it7ii5iv40000001692084807491&qH=ad588135f239b88b\n",
      "https://www.flipkart.com/apple-iphone-12-purple-64-gb/p/itmfca1e77621c65?pid=MOBG2EPZJUZEYZGK&lid=LSTMOBG2EPZJUZEYZGK3JC9XU&marketplace=FLIPKART&q=iphone12&store=tyy%2F4io&srno=s_1_6&otracker=search&fm=organic&iid=232b4c15-da5e-424c-8748-9960e4ec50c3.MOBG2EPZJUZEYZGK.SEARCH&ppt=None&ppn=None&ssid=8it7ii5iv40000001692084807491&qH=ad588135f239b88b\n",
      "https://www.flipkart.com/apple-iphone-12-red-64-gb/p/itm3481e4053d500?pid=MOBFWBYZDP6QCQ8F&lid=LSTMOBFWBYZDP6QCQ8FPGCIEN&marketplace=FLIPKART&q=iphone12&store=tyy%2F4io&srno=s_1_7&otracker=search&fm=organic&iid=232b4c15-da5e-424c-8748-9960e4ec50c3.MOBFWBYZDP6QCQ8F.SEARCH&ppt=None&ppn=None&ssid=8it7ii5iv40000001692084807491&qH=ad588135f239b88b\n",
      "https://www.flipkart.com/apple-iphone-12-green-64-gb/p/itmc8a19a9686173?pid=MOBFWBYZKK3EJPFW&lid=LSTMOBFWBYZKK3EJPFWVBZVKG&marketplace=FLIPKART&q=iphone12&store=tyy%2F4io&srno=s_1_8&otracker=search&fm=organic&iid=232b4c15-da5e-424c-8748-9960e4ec50c3.MOBFWBYZKK3EJPFW.SEARCH&ppt=None&ppn=None&ssid=8it7ii5iv40000001692084807491&qH=ad588135f239b88b\n",
      "https://www.flipkart.com/apple-iphone-12-white-64-gb/p/itm8b88bdc03cd79?pid=MOBFWBYZTK33MBG9&lid=LSTMOBFWBYZTK33MBG9ZFJ0HL&marketplace=FLIPKART&q=iphone12&store=tyy%2F4io&srno=s_1_9&otracker=search&fm=organic&iid=232b4c15-da5e-424c-8748-9960e4ec50c3.MOBFWBYZTK33MBG9.SEARCH&ppt=None&ppn=None&ssid=8it7ii5iv40000001692084807491&qH=ad588135f239b88b\n",
      "https://www.flipkart.com/apple-iphone-12-blue-128-gb/p/itm02853ae92e90a?pid=MOBFWBYZKPTZF9VG&lid=LSTMOBFWBYZKPTZF9VGJD5AMO&marketplace=FLIPKART&q=iphone12&store=tyy%2F4io&srno=s_1_10&otracker=search&fm=organic&iid=232b4c15-da5e-424c-8748-9960e4ec50c3.MOBFWBYZKPTZF9VG.SEARCH&ppt=None&ppn=None&ssid=8it7ii5iv40000001692084807491&qH=ad588135f239b88b\n",
      "https://www.flipkart.com/apple-iphone-12-blue-64-gb/p/itm5778ad0d0d255?pid=MOBFWBYZ8DNJNY7N&lid=LSTMOBFWBYZ8DNJNY7NK9PX3E&marketplace=FLIPKART&q=iphone12&store=tyy%2F4io&srno=s_1_11&otracker=search&fm=organic&iid=232b4c15-da5e-424c-8748-9960e4ec50c3.MOBFWBYZ8DNJNY7N.SEARCH&ppt=None&ppn=None&ssid=8it7ii5iv40000001692084807491&qH=ad588135f239b88b\n",
      "https://www.flipkart.com/apple-iphone-12-red-128-gb/p/itma7bd86885ed98?pid=MOBFWBYZUHPFWQRD&lid=LSTMOBFWBYZUHPFWQRD6PEPH0&marketplace=FLIPKART&q=iphone12&store=tyy%2F4io&srno=s_1_12&otracker=search&fm=organic&iid=232b4c15-da5e-424c-8748-9960e4ec50c3.MOBFWBYZUHPFWQRD.SEARCH&ppt=None&ppn=None&ssid=8it7ii5iv40000001692084807491&qH=ad588135f239b88b\n",
      "https://www.flipkart.com/apple-iphone-12-black-256-gb/p/itm68421fa1c1121?pid=MOBFWBYZ7CR9FRHZ&lid=LSTMOBFWBYZ7CR9FRHZIALAIL&marketplace=FLIPKART&q=iphone12&store=tyy%2F4io&srno=s_1_13&otracker=search&fm=organic&iid=232b4c15-da5e-424c-8748-9960e4ec50c3.MOBFWBYZ7CR9FRHZ.SEARCH&ppt=None&ppn=None&ssid=8it7ii5iv40000001692084807491&qH=ad588135f239b88b\n",
      "https://www.flipkart.com/apple-iphone-12-white-256-gb/p/itmcfbcb621e6326?pid=MOBFWBYZMNGZVMJE&lid=LSTMOBFWBYZMNGZVMJEAEBPN8&marketplace=FLIPKART&q=iphone12&store=tyy%2F4io&srno=s_1_14&otracker=search&fm=organic&iid=232b4c15-da5e-424c-8748-9960e4ec50c3.MOBFWBYZMNGZVMJE.SEARCH&ppt=None&ppn=None&ssid=8it7ii5iv40000001692084807491&qH=ad588135f239b88b\n",
      "https://www.flipkart.com/apple-iphone-12-pro-silver-256-gb/p/itm41ac927e82906?pid=MOBFWBYZMZTJZTWK&lid=LSTMOBFWBYZMZTJZTWKASW35U&marketplace=FLIPKART&q=iphone12&store=tyy%2F4io&srno=s_1_15&otracker=search&fm=organic&iid=232b4c15-da5e-424c-8748-9960e4ec50c3.MOBFWBYZMZTJZTWK.SEARCH&ppt=None&ppn=None&ssid=8it7ii5iv40000001692084807491&qH=ad588135f239b88b\n",
      "https://www.flipkart.com/apple-iphone-12-green-256-gb/p/itm6d126e7980774?pid=MOBFWBYZZPFJYYEY&lid=LSTMOBFWBYZZPFJYYEYEJFIAS&marketplace=FLIPKART&q=iphone12&store=tyy%2F4io&srno=s_1_16&otracker=search&fm=organic&iid=232b4c15-da5e-424c-8748-9960e4ec50c3.MOBFWBYZZPFJYYEY.SEARCH&ppt=None&ppn=None&ssid=8it7ii5iv40000001692084807491&qH=ad588135f239b88b\n",
      "https://www.flipkart.com/apple-iphone-12-pro-silver-512-gb/p/itm0ccf9fc219a71?pid=MOBFWBYZ5UY6ZBVA&lid=LSTMOBFWBYZ5UY6ZBVAWNVLCR&marketplace=FLIPKART&q=iphone12&store=tyy%2F4io&srno=s_1_17&otracker=search&fm=organic&iid=232b4c15-da5e-424c-8748-9960e4ec50c3.MOBFWBYZ5UY6ZBVA.SEARCH&ppt=None&ppn=None&ssid=8it7ii5iv40000001692084807491&qH=ad588135f239b88b\n",
      "https://www.flipkart.com/apple-iphone-12-pro-gold-512-gb/p/itm157b3be191fd1?pid=MOBFWBYZGKFYVTWH&lid=LSTMOBFWBYZGKFYVTWHR65UKC&marketplace=FLIPKART&q=iphone12&store=tyy%2F4io&srno=s_1_18&otracker=search&fm=organic&iid=232b4c15-da5e-424c-8748-9960e4ec50c3.MOBFWBYZGKFYVTWH.SEARCH&ppt=None&ppn=None&ssid=8it7ii5iv40000001692084807491&qH=ad588135f239b88b\n",
      "https://www.flipkart.com/apple-iphone-12-pro-graphite-512-gb/p/itmdf0ffb4f2150f?pid=MOBFWBYZ4ZZ5VUQD&lid=LSTMOBFWBYZ4ZZ5VUQDSMPMJK&marketplace=FLIPKART&q=iphone12&store=tyy%2F4io&srno=s_1_19&otracker=search&fm=organic&iid=232b4c15-da5e-424c-8748-9960e4ec50c3.MOBFWBYZ4ZZ5VUQD.SEARCH&ppt=None&ppn=None&ssid=8it7ii5iv40000001692084807491&qH=ad588135f239b88b\n",
      "https://www.flipkart.com/apple-iphone-12-red-256-gb/p/itm16f42310fe29a?pid=MOBFWBYZEBH6SAFP&lid=LSTMOBFWBYZEBH6SAFPXBXAOS&marketplace=FLIPKART&q=iphone12&store=tyy%2F4io&srno=s_1_20&otracker=search&fm=organic&iid=232b4c15-da5e-424c-8748-9960e4ec50c3.MOBFWBYZEBH6SAFP.SEARCH&ppt=None&ppn=None&ssid=8it7ii5iv40000001692084807491&qH=ad588135f239b88b\n",
      "https://www.flipkart.com/apple-iphone-12-mini-white-128-gb/p/itm9098fa76548ba?pid=MOBFWBYZAGXJRDGB&lid=LSTMOBFWBYZAGXJRDGBJX7DSK&marketplace=FLIPKART&q=iphone12&store=tyy%2F4io&srno=s_1_21&otracker=search&fm=organic&iid=232b4c15-da5e-424c-8748-9960e4ec50c3.MOBFWBYZAGXJRDGB.SEARCH&ppt=None&ppn=None&ssid=8it7ii5iv40000001692084807491&qH=ad588135f239b88b\n",
      "https://www.flipkart.com/apple-iphone-12-blue-256-gb/p/itm3be487cd1dea5?pid=MOBFWBYZKYYZUANT&lid=LSTMOBFWBYZKYYZUANTRZPUJW&marketplace=FLIPKART&q=iphone12&store=tyy%2F4io&srno=s_1_22&otracker=search&fm=organic&iid=232b4c15-da5e-424c-8748-9960e4ec50c3.MOBFWBYZKYYZUANT.SEARCH&ppt=None&ppn=None&ssid=8it7ii5iv40000001692084807491&qH=ad588135f239b88b\n",
      "https://www.flipkart.com/apple-iphone-12-purple-256-gb/p/itmfce36e1443299?pid=MOBG2EPZ6TFVH4YN&lid=LSTMOBG2EPZ6TFVH4YNKR5DFD&marketplace=FLIPKART&q=iphone12&store=tyy%2F4io&srno=s_1_23&otracker=search&fm=organic&iid=232b4c15-da5e-424c-8748-9960e4ec50c3.MOBG2EPZ6TFVH4YN.SEARCH&ppt=None&ppn=None&ssid=8it7ii5iv40000001692084807491&qH=ad588135f239b88b\n",
      "https://www.flipkart.com/apple-iphone-12-pro-pacific-blue-512-gb/p/itm8a39d6779b04e?pid=MOBFWBYZTHSXKMGW&lid=LSTMOBFWBYZTHSXKMGWYPOFI5&marketplace=FLIPKART&q=iphone12&store=tyy%2F4io&srno=s_1_24&otracker=search&fm=organic&iid=232b4c15-da5e-424c-8748-9960e4ec50c3.MOBFWBYZTHSXKMGW.SEARCH&ppt=None&ppn=None&ssid=8it7ii5iv40000001692084807491&qH=ad588135f239b88b\n"
     ]
    },
    {
     "ename": "AttributeError",
     "evalue": "'NoneType' object has no attribute 'a'",
     "output_type": "error",
     "traceback": [
      "\u001b[0;31m---------------------------------------------------------------------------\u001b[0m",
      "\u001b[0;31mAttributeError\u001b[0m                            Traceback (most recent call last)",
      "Cell \u001b[0;32mIn[29], line 3\u001b[0m\n\u001b[1;32m      1\u001b[0m \u001b[38;5;66;03m# Automating the product link getting step:\u001b[39;00m\n\u001b[1;32m      2\u001b[0m \u001b[38;5;28;01mfor\u001b[39;00m hyp \u001b[38;5;129;01min\u001b[39;00m bigbox_list:\n\u001b[0;32m----> 3\u001b[0m     \u001b[38;5;28mprint\u001b[39m(\u001b[38;5;124m\"\u001b[39m\u001b[38;5;124mhttps://www.flipkart.com\u001b[39m\u001b[38;5;124m\"\u001b[39m\u001b[38;5;241m+\u001b[39m\u001b[43mhyp\u001b[49m\u001b[38;5;241;43m.\u001b[39;49m\u001b[43mdiv\u001b[49m\u001b[38;5;241;43m.\u001b[39;49m\u001b[43mdiv\u001b[49m\u001b[38;5;241;43m.\u001b[39;49m\u001b[43mdiv\u001b[49m\u001b[38;5;241;43m.\u001b[39;49m\u001b[43ma\u001b[49m[\u001b[38;5;124m'\u001b[39m\u001b[38;5;124mhref\u001b[39m\u001b[38;5;124m'\u001b[39m])\n",
      "\u001b[0;31mAttributeError\u001b[0m: 'NoneType' object has no attribute 'a'"
     ]
    }
   ],
   "source": [
    "# Automating the product link getting step:\n",
    "for hyp in bigbox_list:\n",
    "    print(\"https://www.flipkart.com\"+hyp.div.div.div.a['href'])"
   ]
  },
  {
   "cell_type": "code",
   "execution_count": 31,
   "id": "bc6e9173-4877-4b03-9a74-bfe1ae3cb6b8",
   "metadata": {},
   "outputs": [
    {
     "data": {
      "text/plain": [
       "'https://www.flipkart.com/apple-iphone-12-white-128-gb/p/itm95393f4c6cc59?pid=MOBFWBYZBTZFGJF9&lid=LSTMOBFWBYZBTZFGJF9RAHZAK&marketplace=FLIPKART&q=iphone12&store=tyy%2F4io&srno=s_1_1&otracker=search&fm=organic&iid=232b4c15-da5e-424c-8748-9960e4ec50c3.MOBFWBYZBTZFGJF9.SEARCH&ppt=None&ppn=None&ssid=8it7ii5iv40000001692084807491&qH=ad588135f239b88b'"
      ]
     },
     "execution_count": 31,
     "metadata": {},
     "output_type": "execute_result"
    }
   ],
   "source": [
    "product_link# It contains link of the product"
   ]
  },
  {
   "cell_type": "code",
   "execution_count": 33,
   "id": "19686a2b-25b1-4941-ba38-6ea3013b0907",
   "metadata": {},
   "outputs": [],
   "source": [
    "product_req = requests.get(product_link)# returns HTML code entire page belongs to that product"
   ]
  },
  {
   "cell_type": "code",
   "execution_count": 34,
   "id": "ab82ef92-dc1a-4f01-a938-bae01d3c639e",
   "metadata": {},
   "outputs": [],
   "source": [
    "product_html = bs(product_req.text,'html.parser')#will convert html code of entire page to slightly human readble form"
   ]
  },
  {
   "cell_type": "markdown",
   "id": "ce3f3854-fbf1-4850-90dd-87fd851a4d70",
   "metadata": {},
   "source": [
    "#### From now onwards we will try to extract all the comments and ratings of the product."
   ]
  },
  {
   "cell_type": "code",
   "execution_count": 35,
   "id": "c1040de7-a87a-4b5d-b73d-641202417bf2",
   "metadata": {},
   "outputs": [
    {
     "data": {
      "text/plain": [
       "11"
      ]
     },
     "execution_count": 35,
     "metadata": {},
     "output_type": "execute_result"
    }
   ],
   "source": [
    "#returns html codes of all the boxes which contains comments and ratings\n",
    "comment_box = product_html.find_all(\"div\",{\"class\":\"_16PBlm\"})\n",
    "len(comment_box)# total number of comments"
   ]
  },
  {
   "cell_type": "code",
   "execution_count": 37,
   "id": "43d23c76-afbc-44d6-8644-80c6e50a5f01",
   "metadata": {},
   "outputs": [
    {
     "data": {
      "text/plain": [
       "'Flipkart Customer'"
      ]
     },
     "execution_count": 37,
     "metadata": {},
     "output_type": "execute_result"
    }
   ],
   "source": [
    "# Find the name of the person who have commented.\n",
    "# We need to check number of 'div' carefull.\n",
    "# If class name is passed then lesser number of div will give answer but should use more div\n",
    "comment_box[0].div.div.find_all(\"p\",{\"class\":\"_2sc7ZR _2V5EHH\"})[0].text"
   ]
  },
  {
   "cell_type": "code",
   "execution_count": 38,
   "id": "865bfc2a-444c-45fa-a28d-6da321a160b8",
   "metadata": {},
   "outputs": [
    {
     "name": "stdout",
     "output_type": "stream",
     "text": [
      "Flipkart Customer\n",
      "Sivaramaraju Raju\n",
      "Rupesh Thik\n",
      "Sibsankar Das\n",
      "Shivam Thakur\n",
      "Arjun  Chakravarti \n",
      "Najir  Hussain \n",
      "Jaya chandra  Reddy\n",
      "Flipkart Customer\n",
      "Flipkart Customer\n"
     ]
    },
    {
     "ename": "AttributeError",
     "evalue": "'NoneType' object has no attribute 'div'",
     "output_type": "error",
     "traceback": [
      "\u001b[0;31m---------------------------------------------------------------------------\u001b[0m",
      "\u001b[0;31mAttributeError\u001b[0m                            Traceback (most recent call last)",
      "Cell \u001b[0;32mIn[38], line 3\u001b[0m\n\u001b[1;32m      1\u001b[0m \u001b[38;5;66;03m# Find all the name of the person who have commented.\u001b[39;00m\n\u001b[1;32m      2\u001b[0m \u001b[38;5;28;01mfor\u001b[39;00m comment \u001b[38;5;129;01min\u001b[39;00m comment_box:\n\u001b[0;32m----> 3\u001b[0m     \u001b[38;5;28mprint\u001b[39m(\u001b[43mcomment\u001b[49m\u001b[38;5;241;43m.\u001b[39;49m\u001b[43mdiv\u001b[49m\u001b[38;5;241;43m.\u001b[39;49m\u001b[43mdiv\u001b[49m\u001b[38;5;241m.\u001b[39mfind_all(\u001b[38;5;124m\"\u001b[39m\u001b[38;5;124mp\u001b[39m\u001b[38;5;124m\"\u001b[39m,{\u001b[38;5;124m\"\u001b[39m\u001b[38;5;124mclass\u001b[39m\u001b[38;5;124m\"\u001b[39m:\u001b[38;5;124m\"\u001b[39m\u001b[38;5;124m_2sc7ZR _2V5EHH\u001b[39m\u001b[38;5;124m\"\u001b[39m})[\u001b[38;5;241m0\u001b[39m]\u001b[38;5;241m.\u001b[39mtext)\n",
      "\u001b[0;31mAttributeError\u001b[0m: 'NoneType' object has no attribute 'div'"
     ]
    }
   ],
   "source": [
    "# Find all the name of the person who have commented.\n",
    "for comment in comment_box:\n",
    "    print(comment.div.div.find_all(\"p\",{\"class\":\"_2sc7ZR _2V5EHH\"})[0].text)"
   ]
  },
  {
   "cell_type": "code",
   "execution_count": 41,
   "id": "7c44ed16-dc71-489e-b5ed-6ba38e9ad0fd",
   "metadata": {},
   "outputs": [
    {
     "name": "stdout",
     "output_type": "stream",
     "text": [
      "4\n",
      "5\n",
      "5\n",
      "5\n",
      "5\n",
      "5\n",
      "5\n",
      "5\n",
      "5\n",
      "5\n"
     ]
    },
    {
     "ename": "AttributeError",
     "evalue": "'NoneType' object has no attribute 'div'",
     "output_type": "error",
     "traceback": [
      "\u001b[0;31m---------------------------------------------------------------------------\u001b[0m",
      "\u001b[0;31mAttributeError\u001b[0m                            Traceback (most recent call last)",
      "Cell \u001b[0;32mIn[41], line 3\u001b[0m\n\u001b[1;32m      1\u001b[0m \u001b[38;5;66;03m# Find all rating of the product\u001b[39;00m\n\u001b[1;32m      2\u001b[0m \u001b[38;5;28;01mfor\u001b[39;00m comment \u001b[38;5;129;01min\u001b[39;00m comment_box:\n\u001b[0;32m----> 3\u001b[0m     \u001b[38;5;28mprint\u001b[39m(\u001b[43mcomment\u001b[49m\u001b[38;5;241;43m.\u001b[39;49m\u001b[43mdiv\u001b[49m\u001b[38;5;241;43m.\u001b[39;49m\u001b[43mdiv\u001b[49m\u001b[38;5;241m.\u001b[39mdiv\u001b[38;5;241m.\u001b[39mdiv\u001b[38;5;241m.\u001b[39mtext)\n",
      "\u001b[0;31mAttributeError\u001b[0m: 'NoneType' object has no attribute 'div'"
     ]
    }
   ],
   "source": [
    "# Find all rating of the product\n",
    "for comment in comment_box:\n",
    "    print(comment.div.div.div.div.text)"
   ]
  },
  {
   "cell_type": "code",
   "execution_count": 51,
   "id": "fdedaf15-dce5-42f5-a141-6fa496ad1c83",
   "metadata": {},
   "outputs": [
    {
     "name": "stdout",
     "output_type": "stream",
     "text": [
      "Good quality product\n",
      "Must buy!\n",
      "Simply awesome\n",
      "Must buy!\n",
      "Terrific\n",
      "Classy product\n",
      "Terrific\n",
      "Simply awesome\n",
      "Super!\n",
      "Best in the market!\n"
     ]
    },
    {
     "ename": "IndexError",
     "evalue": "list index out of range",
     "output_type": "error",
     "traceback": [
      "\u001b[0;31m---------------------------------------------------------------------------\u001b[0m",
      "\u001b[0;31mIndexError\u001b[0m                                Traceback (most recent call last)",
      "Cell \u001b[0;32mIn[51], line 3\u001b[0m\n\u001b[1;32m      1\u001b[0m \u001b[38;5;66;03m# Find all comment header of the product\u001b[39;00m\n\u001b[1;32m      2\u001b[0m \u001b[38;5;28;01mfor\u001b[39;00m comm \u001b[38;5;129;01min\u001b[39;00m comment_box:\n\u001b[0;32m----> 3\u001b[0m     \u001b[38;5;28mprint\u001b[39m(\u001b[43mcomm\u001b[49m\u001b[38;5;241;43m.\u001b[39;49m\u001b[43mfind_all\u001b[49m\u001b[43m(\u001b[49m\u001b[38;5;124;43m\"\u001b[39;49m\u001b[38;5;124;43mp\u001b[39;49m\u001b[38;5;124;43m\"\u001b[39;49m\u001b[43m,\u001b[49m\u001b[43m{\u001b[49m\u001b[38;5;124;43m\"\u001b[39;49m\u001b[38;5;124;43mclass\u001b[39;49m\u001b[38;5;124;43m\"\u001b[39;49m\u001b[43m:\u001b[49m\u001b[38;5;124;43m\"\u001b[39;49m\u001b[38;5;124;43m_2-N8zT\u001b[39;49m\u001b[38;5;124;43m\"\u001b[39;49m\u001b[43m}\u001b[49m\u001b[43m)\u001b[49m\u001b[43m[\u001b[49m\u001b[38;5;241;43m0\u001b[39;49m\u001b[43m]\u001b[49m\u001b[38;5;241m.\u001b[39mtext)\n",
      "\u001b[0;31mIndexError\u001b[0m: list index out of range"
     ]
    }
   ],
   "source": [
    "# Find all comment headers of the product\n",
    "# If we use class number then div is not even needed\n",
    "for comm in comment_box:\n",
    "    print(comm.find_all(\"p\",{\"class\":\"_2-N8zT\"})[0].text)"
   ]
  },
  {
   "cell_type": "code",
   "execution_count": 59,
   "id": "12caa20a-9366-4a06-af02-b940db2b47ce",
   "metadata": {},
   "outputs": [
    {
     "name": "stdout",
     "output_type": "stream",
     "text": [
      "Everything is great except the battery life, camera is awesomeREAD MORE\n",
      "Best iPhone till date 💕READ MORE\n",
      "Awesome CameraREAD MORE\n",
      "Camera quality is just fabulous. Interface is very smooth.  Good for photography and videography.READ MORE\n",
      "I am very happy with I phone 12Very Nice Product Thanku FlipkartREAD MORE\n",
      "AwesomeREAD MORE\n",
      "Awesome camera quality…just love itREAD MORE\n",
      "Amazing phone  In love with this phoneREAD MORE\n",
      "GoodREAD MORE\n",
      "Just love it …..😍😍😍READ MORE\n"
     ]
    },
    {
     "ename": "IndexError",
     "evalue": "list index out of range",
     "output_type": "error",
     "traceback": [
      "\u001b[0;31m---------------------------------------------------------------------------\u001b[0m",
      "\u001b[0;31mIndexError\u001b[0m                                Traceback (most recent call last)",
      "Cell \u001b[0;32mIn[59], line 3\u001b[0m\n\u001b[1;32m      1\u001b[0m \u001b[38;5;66;03m# Find all comments of the product\u001b[39;00m\n\u001b[1;32m      2\u001b[0m \u001b[38;5;28;01mfor\u001b[39;00m comm \u001b[38;5;129;01min\u001b[39;00m comment_box:\n\u001b[0;32m----> 3\u001b[0m     \u001b[38;5;28mprint\u001b[39m(\u001b[43mcomm\u001b[49m\u001b[38;5;241;43m.\u001b[39;49m\u001b[43mfind_all\u001b[49m\u001b[43m(\u001b[49m\u001b[38;5;124;43m\"\u001b[39;49m\u001b[38;5;124;43mdiv\u001b[39;49m\u001b[38;5;124;43m\"\u001b[39;49m\u001b[43m,\u001b[49m\u001b[43m{\u001b[49m\u001b[38;5;124;43m\"\u001b[39;49m\u001b[38;5;124;43mclass\u001b[39;49m\u001b[38;5;124;43m\"\u001b[39;49m\u001b[43m:\u001b[49m\u001b[38;5;124;43m\"\u001b[39;49m\u001b[38;5;124;43m\"\u001b[39;49m\u001b[43m}\u001b[49m\u001b[43m)\u001b[49m\u001b[43m[\u001b[49m\u001b[38;5;241;43m0\u001b[39;49m\u001b[43m]\u001b[49m\u001b[38;5;241m.\u001b[39mtext)\n",
      "\u001b[0;31mIndexError\u001b[0m: list index out of range"
     ]
    }
   ],
   "source": [
    "# Find all comments of the product\n",
    "for comm in comment_box:\n",
    "    print(comm.find_all(\"div\",{\"class\":\"\"})[0].text)"
   ]
  }
 ],
 "metadata": {
  "kernelspec": {
   "display_name": "Python 3 (ipykernel)",
   "language": "python",
   "name": "python3"
  },
  "language_info": {
   "codemirror_mode": {
    "name": "ipython",
    "version": 3
   },
   "file_extension": ".py",
   "mimetype": "text/x-python",
   "name": "python",
   "nbconvert_exporter": "python",
   "pygments_lexer": "ipython3",
   "version": "3.10.8"
  }
 },
 "nbformat": 4,
 "nbformat_minor": 5
}

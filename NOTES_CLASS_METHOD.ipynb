{
 "cells": [
  {
   "cell_type": "markdown",
   "id": "01362b66-02df-496d-8629-9ba1ace917a0",
   "metadata": {},
   "source": [
    "## Class Method"
   ]
  },
  {
   "cell_type": "markdown",
   "id": "72e803cd-cf98-4a54-bac3-7562ab5f49c6",
   "metadata": {},
   "source": [
    "Class methods are alternative to '\\_\\_init\\_\\_()' method. The '\\_\\_init\\_\\_()' is used to pass inputs to class for particular object. Class mehtod also does that."
   ]
  },
  {
   "cell_type": "code",
   "execution_count": 1,
   "id": "083fa799-5ec9-4095-bb82-94fed20f0764",
   "metadata": {},
   "outputs": [],
   "source": [
    "class pwskills1:\n",
    "    def __init__(self, name , email):\n",
    "        self.name = name\n",
    "        self.email = email\n",
    "        \n",
    "    @classmethod # Decorator to define class method \n",
    "    def details(cls , name1 , email1): # Details is a class method. Using this we can pass input to class for an object.\n",
    "        return cls(name1 , email1) # Here 'cls' is similar to 'self' but not same. 'cls' is binding this method to the class.\n",
    "# 1. 'details()' is almost equivalent to '__init__()'\n",
    "# 2. 'name1' and 'email1' can update value of \"name\" and \"email\". So we achieve function overloading. Here '__init__()' is overloaded by \n",
    "# classmethod 'details()'\n",
    "            \n",
    "    def student_details(self):\n",
    "        print(self.name , self.email)"
   ]
  },
  {
   "cell_type": "code",
   "execution_count": 7,
   "id": "94ff76d5-2151-441f-afb4-d0b02efde8f4",
   "metadata": {},
   "outputs": [],
   "source": [
    "pw1 = pwskills1.details('mohan','mohan@gmail.com') # Accessed class method using class name"
   ]
  },
  {
   "cell_type": "code",
   "execution_count": 8,
   "id": "71b443c7-cae5-4bac-8f71-e4156e62f57c",
   "metadata": {},
   "outputs": [
    {
     "name": "stdout",
     "output_type": "stream",
     "text": [
      "mohan mohan@gmail.com\n"
     ]
    }
   ],
   "source": [
    "print(pw1.name,pw1.email)"
   ]
  },
  {
   "cell_type": "code",
   "execution_count": 9,
   "id": "db9b2e7c-e29a-4807-8b20-d9d4703ad365",
   "metadata": {},
   "outputs": [
    {
     "name": "stdout",
     "output_type": "stream",
     "text": [
      "mohan mohan@gmail.com\n"
     ]
    }
   ],
   "source": [
    "pw1.student_details() # Using class method we are able to access even regular function."
   ]
  },
  {
   "cell_type": "markdown",
   "id": "b87424b9-23e4-4427-87f0-ff4a5f78fb19",
   "metadata": {},
   "source": [
    "NOTE : In case of class method if inputs are given using class name then those inputs will get first prefernce than inputs given using object even though we can access class methods using object."
   ]
  },
  {
   "cell_type": "code",
   "execution_count": 16,
   "id": "ce15291b-8b23-4bdd-9d44-a9d9ce1a0da6",
   "metadata": {},
   "outputs": [
    {
     "name": "stdout",
     "output_type": "stream",
     "text": [
      "Hari\n",
      "hari@gmail.com\n"
     ]
    }
   ],
   "source": [
    "pw2 = pwskills1('Hari','hari@gmail.com')  \n",
    "pw2.details('Khanjan','khanjan@gmail.com')# Accessed class method using object\n",
    "print(pw2.name)\n",
    "print(pw2.email)"
   ]
  },
  {
   "cell_type": "markdown",
   "id": "6aee1aa1-56e2-4395-ab04-9028435e2b46",
   "metadata": {},
   "source": [
    "## Class variable and Class method"
   ]
  },
  {
   "cell_type": "code",
   "execution_count": 18,
   "id": "b3452722-73d6-4835-a866-61d76aba66d5",
   "metadata": {},
   "outputs": [],
   "source": [
    "class pwskills2:\n",
    "    phone_number = 1011041110 # class variable\n",
    "    def __init__(self, name , email):\n",
    "        self.name = name\n",
    "        self.email = email\n",
    "        \n",
    "    @classmethod\n",
    "    def change_number(cls,number): # class method is used change value of class variable\n",
    "        pwskills2.phone_number = number \n",
    "        \n",
    "    @classmethod\n",
    "    def details(cls , name1 , email1): \n",
    "        return cls(name1 , email1)\n",
    "    \n",
    "    def student_details(self):\n",
    "        print(self.name , self.email, pwskills2.phone_number)# class variable is access using class name"
   ]
  },
  {
   "cell_type": "code",
   "execution_count": 19,
   "id": "8a60b58a-33d1-4ff0-b531-7e7508a21ec4",
   "metadata": {},
   "outputs": [
    {
     "data": {
      "text/plain": [
       "6666666666"
      ]
     },
     "execution_count": 19,
     "metadata": {},
     "output_type": "execute_result"
    }
   ],
   "source": [
    "pw3 = pwskills2('Ram','ram@gmail.com')\n",
    "pw3.change_number(6666666666) \n",
    "pw3.phone_number # Accessing class variable using object. This can be done using class name also."
   ]
  },
  {
   "cell_type": "markdown",
   "id": "2ffa3a82-f9af-4918-9d2a-45305432fa7a",
   "metadata": {},
   "source": [
    "## Adding a outsider function dynamically to class"
   ]
  },
  {
   "cell_type": "code",
   "execution_count": 20,
   "id": "cb0a9580-72dd-41fe-aa57-3b9bed0360be",
   "metadata": {},
   "outputs": [],
   "source": [
    "class pwskills3:\n",
    "    phone_number = 1011041110 # class variable\n",
    "    def __init__(self, name , email):\n",
    "        self.name = name\n",
    "        self.email = email\n",
    "        \n",
    "    @classmethod\n",
    "    def change_number(cls,number): # class method is used change value of class variable\n",
    "        pwskills2.phone_number = number \n",
    "        \n",
    "    @classmethod\n",
    "    def details(cls , name1 , email1): \n",
    "        return cls(name1 , email1)\n",
    "    \n",
    "    def student_details(self):\n",
    "        print(self.name , self.email, pwskills2.phone_number)# class variable is access using class name"
   ]
  },
  {
   "cell_type": "code",
   "execution_count": 21,
   "id": "806476d3-5771-49af-b10e-e50c2ad3076d",
   "metadata": {},
   "outputs": [],
   "source": [
    "def course_details(cls,course_name):\n",
    "    print('Course details:',course_name)"
   ]
  },
  {
   "cell_type": "code",
   "execution_count": 22,
   "id": "8c920023-4106-451d-874b-5eddca058b8e",
   "metadata": {},
   "outputs": [
    {
     "name": "stdout",
     "output_type": "stream",
     "text": [
      "Course details: Mathematics\n"
     ]
    }
   ],
   "source": [
    "pwskills3.course_details = classmethod(course_details) ##Adding a outsider function dynamically to class\n",
    "pwskills3.course_details('Mathematics')# Using object also we can access now"
   ]
  },
  {
   "cell_type": "markdown",
   "id": "f823e2a5-38ea-4748-abd6-37a23557ce6e",
   "metadata": {},
   "source": [
    "To delete anything dynamically from the RAM, that is there in the class we can use 'del' and 'delattr(class_name,'attribute/method')'  "
   ]
  },
  {
   "cell_type": "code",
   "execution_count": null,
   "id": "56a2472f-9a4a-4960-9fe8-9a597b1b93a2",
   "metadata": {},
   "outputs": [],
   "source": []
  }
 ],
 "metadata": {
  "kernelspec": {
   "display_name": "Python 3 (ipykernel)",
   "language": "python",
   "name": "python3"
  },
  "language_info": {
   "codemirror_mode": {
    "name": "ipython",
    "version": 3
   },
   "file_extension": ".py",
   "mimetype": "text/x-python",
   "name": "python",
   "nbconvert_exporter": "python",
   "pygments_lexer": "ipython3",
   "version": "3.10.8"
  }
 },
 "nbformat": 4,
 "nbformat_minor": 5
}

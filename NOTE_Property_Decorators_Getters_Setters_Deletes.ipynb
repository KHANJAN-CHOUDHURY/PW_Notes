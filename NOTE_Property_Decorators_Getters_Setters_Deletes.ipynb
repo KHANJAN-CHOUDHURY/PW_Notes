{
 "cells": [
  {
   "cell_type": "markdown",
   "id": "70c5e779",
   "metadata": {},
   "source": [
    "## Note:\n",
    " The main purpose of using getters and setters in object-oriented programs is to ensure data encapsulation.  We use getters & setters for getting and \n",
    " setting a value in private variable. Using @property decorator is one way to do this. Here all the steps are shown below. "
   ]
  },
  {
   "cell_type": "markdown",
   "id": "56bdaa90",
   "metadata": {},
   "source": [
    "## @property\n",
    "This is called a property decorator. It updates methods in a class such that using that method an outsider can access private variable safely. \n",
    "\n",
    "This access will not directly through object of the class but rather through property decorated function."
   ]
  },
  {
   "cell_type": "markdown",
   "id": "e89762a6",
   "metadata": {},
   "source": [
    "## setter:\n",
    "To do modification in private and protect (variable name starts with single '_'. But protected varible can be access through object.) variable\n",
    "the setter is used."
   ]
  },
  {
   "cell_type": "markdown",
   "id": "a802be16",
   "metadata": {},
   "source": [
    "## deleter:\n",
    "Using this outside or user can delete the private variables."
   ]
  },
  {
   "cell_type": "code",
   "execution_count": 1,
   "id": "08a54cfc-4065-41b0-971d-2c8e88b5788f",
   "metadata": {},
   "outputs": [],
   "source": [
    "class pwskills:\n",
    "    \n",
    "    def __init__(self, course_price , course_name):\n",
    "        self.__course_price = course_price # '__course_price' is a private variable\n",
    "        self.course_name = course_name\n",
    "        \n",
    "    @property\n",
    "    def course_price_access(self):\n",
    "        return self.__course_price\n",
    "    \n",
    "    @course_price_access.setter # This is the way to modify private variable using 'setter'.\n",
    "    def course_price_set(self , price):\n",
    "        if price <= 3500:\n",
    "            pass\n",
    "        else :\n",
    "            self.__course_price = price\n",
    "            \n",
    "    @course_price_access.deleter #This how delete code is written. \n",
    "    def course_price_del(self):\n",
    "        del  self.__course_price\n",
    "    \n",
    "        \n",
    "    \n",
    "    "
   ]
  },
  {
   "cell_type": "code",
   "execution_count": 2,
   "id": "aa678422-4681-4c70-92f9-4fb3ea373a93",
   "metadata": {},
   "outputs": [],
   "source": [
    "pw = pwskills(3500 , \"data science masters\")"
   ]
  },
  {
   "cell_type": "code",
   "execution_count": 3,
   "id": "94e4a6b1-e3c1-4b20-85a0-82a01bcef269",
   "metadata": {},
   "outputs": [
    {
     "data": {
      "text/plain": [
       "3500"
      ]
     },
     "execution_count": 3,
     "metadata": {},
     "output_type": "execute_result"
    }
   ],
   "source": [
    "pw.course_price_access # Using property decorated function value of the private variable is accessed."
   ]
  },
  {
   "cell_type": "code",
   "execution_count": 20,
   "id": "26507163-cf11-48c4-b16b-aa8b0a5a0ad2",
   "metadata": {},
   "outputs": [],
   "source": [
    "del pw.course_price_del # This how deleter works"
   ]
  },
  {
   "cell_type": "code",
   "execution_count": 7,
   "id": "18f5fa35-c1dd-4e0a-9749-90afbec5ed36",
   "metadata": {},
   "outputs": [],
   "source": [
    "pw.course_price_set = 4500 # Using object and 'stter' private variable is accessed and modified."
   ]
  },
  {
   "cell_type": "code",
   "execution_count": 8,
   "id": "3b2cb159-3e13-49bb-8d1e-6e34a12a177a",
   "metadata": {},
   "outputs": [
    {
     "data": {
      "text/plain": [
       "4500"
      ]
     },
     "execution_count": 8,
     "metadata": {},
     "output_type": "execute_result"
    }
   ],
   "source": [
    "pw.course_price_access"
   ]
  },
  {
   "cell_type": "code",
   "execution_count": 3,
   "id": "542c4157-8b09-42fb-840a-a2fd9caa4566",
   "metadata": {},
   "outputs": [
    {
     "data": {
      "text/plain": [
       "'data science masters'"
      ]
     },
     "execution_count": 3,
     "metadata": {},
     "output_type": "execute_result"
    }
   ],
   "source": [
    "pw.course_name"
   ]
  },
  {
   "cell_type": "code",
   "execution_count": 5,
   "id": "1fd0ecb1-eefc-47e9-a773-7c11c06a2f18",
   "metadata": {},
   "outputs": [
    {
     "data": {
      "text/plain": [
       "3500"
      ]
     },
     "execution_count": 5,
     "metadata": {},
     "output_type": "execute_result"
    }
   ],
   "source": [
    "pw._pwskills__course_price # Value of the private variable is accessed thorugh class name."
   ]
  },
  {
   "cell_type": "markdown",
   "id": "aca2653c",
   "metadata": {},
   "source": [
    "## Method overriding:\n",
    "When a function from parent class is redefined in the child class then function is overriden."
   ]
  },
  {
   "cell_type": "markdown",
   "id": "44248159",
   "metadata": {},
   "source": [
    "## Method overloading:\n",
    "Python directly do not support method overloading. But there is a trick. Using class method we can overload '\\_\\_init\\_\\_()' function. Appart from that for normal instance function there are some other tricks to do that. Check the following link: https://www.youtube.com/watch?v=CcTzTuIsoFk"
   ]
  },
  {
   "cell_type": "markdown",
   "id": "9bc3cec9",
   "metadata": {},
   "source": [
    "## super():\n",
    "It is used to give access to the methods of a parent class. Returns a temporary object of a parent class when used. For example"
   ]
  },
  {
   "cell_type": "code",
   "execution_count": null,
   "id": "a61b1909",
   "metadata": {},
   "outputs": [],
   "source": [
    "class Rectangle:\n",
    "    def __init__(self,length,width):\n",
    "        self.length = length\n",
    "        self.width = width\n",
    "\n",
    "class Square(Rectangle):\n",
    "    def __init__(self,length,width):\n",
    "        super().__init__(length,width)\n",
    "\n",
    "\"\"\"In class 'Square' we don not need to initialize the variables 'length' and 'width' because using 'super()' we have out-source this task to\n",
    "parent class of 'Square'i.e. 'Rectangle'. This reduces the number of lines of codes each time we have write whenever we make child class from\n",
    "parent class.\"\"\"\n",
    "\n",
    "class Cube(Rectangle):\n",
    "    def __init__(self,length,height,width):\n",
    "        super().__init__(length,width)\n",
    "        self.height = height # 'height' needs to be initialized because it is not there in the parent class 'Rectangle'."
   ]
  }
 ],
 "metadata": {
  "kernelspec": {
   "display_name": "Python 3 (ipykernel)",
   "language": "python",
   "name": "python3"
  },
  "language_info": {
   "codemirror_mode": {
    "name": "ipython",
    "version": 3
   },
   "file_extension": ".py",
   "mimetype": "text/x-python",
   "name": "python",
   "nbconvert_exporter": "python",
   "pygments_lexer": "ipython3",
   "version": "3.9.7"
  }
 },
 "nbformat": 4,
 "nbformat_minor": 5
}

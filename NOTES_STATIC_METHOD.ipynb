{
 "cells": [
  {
   "cell_type": "markdown",
   "id": "d3762d0f",
   "metadata": {},
   "source": [
    "## Static method\n",
    "\n",
    "The function that is there in class will be activate and stored in RAM every time we create a new object. If we create a million object the one million times thoses function will created any they will eat up a lot of space. Each function is different for each object (even though their structure is same). But if we use static method then for all one million object there will only one function. This going to save a lot of memory.\n",
    "\n",
    "Static fucntion are those function in class which are same and ceated once for any number of objects."
   ]
  },
  {
   "cell_type": "code",
   "execution_count": 1,
   "id": "7d866032-5c0e-4db2-9d58-1855164e5834",
   "metadata": {},
   "outputs": [],
   "source": [
    "class pwskills1:\n",
    "    def student_details(self , name , mail_id , number) : \n",
    "        print(name , mail_id, number)\n",
    "        \n",
    "    @staticmethod\n",
    "    def mentor_class(list_mentor) : \n",
    "        print(list_mentor)\n",
    "        \n",
    "    def mentor(self , mentor_list) :\n",
    "        print(mentor_list)"
   ]
  },
  {
   "cell_type": "code",
   "execution_count": 2,
   "id": "afc43311-50a8-4a95-8e66-22828d8dd3eb",
   "metadata": {},
   "outputs": [],
   "source": [
    "pw1 = pwskills1()"
   ]
  },
  {
   "cell_type": "code",
   "execution_count": 3,
   "id": "103dac56-44e3-4ced-867d-46f4f17adac4",
   "metadata": {},
   "outputs": [
    {
     "name": "stdout",
     "output_type": "stream",
     "text": [
      "['krish', 'sudh']\n"
     ]
    }
   ],
   "source": [
    "pw1.mentor([\"krish\" , \"sudh\"])# Accessing static method using object"
   ]
  },
  {
   "cell_type": "code",
   "execution_count": 4,
   "id": "1f2085b9-0dba-40a0-bf18-9621289ffca0",
   "metadata": {},
   "outputs": [
    {
     "name": "stdout",
     "output_type": "stream",
     "text": [
      "['sudh', 'naik']\n"
     ]
    }
   ],
   "source": [
    "pw1.mentor_class([\"sudh\" , \"naik\"])"
   ]
  },
  {
   "cell_type": "code",
   "execution_count": 5,
   "id": "10d5501a-4460-4f4b-b391-f2fb0dfa032b",
   "metadata": {},
   "outputs": [
    {
     "name": "stdout",
     "output_type": "stream",
     "text": [
      "['sudh', 'kris']\n"
     ]
    }
   ],
   "source": [
    "pwskills1.mentor_class([\"sudh\" , \"kris\"])# Accessing static method using class name"
   ]
  },
  {
   "cell_type": "markdown",
   "id": "1700eb5b",
   "metadata": {},
   "source": [
    "Student number is always high and frequently changes but mentors are somewhat constant. For mentors it is better to create static method. But for student general/instance method should be used."
   ]
  },
  {
   "cell_type": "code",
   "execution_count": 12,
   "id": "444133f4-1160-45e5-81d0-13fea6b91279",
   "metadata": {},
   "outputs": [],
   "source": [
    "class pwskills1:\n",
    "    def student_details(self , name , mail_id , number) : \n",
    "        print(name , mail_id, number)\n",
    "        \n",
    "    @staticmethod\n",
    "    def mentor_mail_id(mail_id):\n",
    "        print(mail_id)\n",
    "        \n",
    "    @staticmethod\n",
    "    def mentor_class(list_mentor) : \n",
    "        print(list_mentor)\n",
    "        pwskills1.mentor_mail_id([\"krish@gmail.com\" , \"sudh@gmail.com\"]) # Accessing static method inside a static method\n",
    "        \n",
    "    @classmethod\n",
    "    def class_name(cls,class_name):\n",
    "        cls.mentor_class([\"sudh\" , \"krish\"]) # Accessing static method inside a class method\n",
    "        \n",
    "    def mentor(self , mentor_list) :\n",
    "        print(mentor_list)\n",
    "        self.mentor_class([\"krish\" , \"sudh\"]) # Accessing static method inside a instance method."
   ]
  },
  {
   "cell_type": "code",
   "execution_count": 13,
   "id": "de2ef83d-6a58-42dd-8692-63634e377e37",
   "metadata": {},
   "outputs": [],
   "source": [
    "pw1 = pwskills1()"
   ]
  },
  {
   "cell_type": "code",
   "execution_count": 14,
   "id": "2f84a6fa-726d-4395-9c1d-d743e6cb7274",
   "metadata": {},
   "outputs": [
    {
     "name": "stdout",
     "output_type": "stream",
     "text": [
      "mohan mohan@gmail.com 9675657657\n"
     ]
    }
   ],
   "source": [
    "pw1.student_details(\"mohan\" , \"mohan@gmail.com\" , 9675657657)"
   ]
  }
 ],
 "metadata": {
  "kernelspec": {
   "display_name": "Python 3 (ipykernel)",
   "language": "python",
   "name": "python3"
  },
  "language_info": {
   "codemirror_mode": {
    "name": "ipython",
    "version": 3
   },
   "file_extension": ".py",
   "mimetype": "text/x-python",
   "name": "python",
   "nbconvert_exporter": "python",
   "pygments_lexer": "ipython3",
   "version": "3.9.7"
  }
 },
 "nbformat": 4,
 "nbformat_minor": 5
}
